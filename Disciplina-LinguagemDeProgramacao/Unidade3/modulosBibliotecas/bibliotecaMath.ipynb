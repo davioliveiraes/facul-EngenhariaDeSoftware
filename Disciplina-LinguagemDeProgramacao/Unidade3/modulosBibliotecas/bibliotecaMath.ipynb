{
 "cells": [
  {
   "cell_type": "markdown",
   "metadata": {},
   "source": [
    "- from math import sqrt, log2, cos <br>\n",
    "- import math as m <br>\n",
    "- import math <br> \n"
   ]
  },
  {
   "cell_type": "code",
   "execution_count": 1,
   "metadata": {},
   "outputs": [],
   "source": [
    "import math"
   ]
  },
  {
   "cell_type": "code",
   "execution_count": 2,
   "metadata": {},
   "outputs": [
    {
     "name": "stdout",
     "output_type": "stream",
     "text": [
      "5.0\n",
      "10.0\n",
      "0.5253219888177297\n"
     ]
    }
   ],
   "source": [
    "from math import sqrt, log2, cos\n",
    "\n",
    "print(math.sqrt(25))\n",
    "print(math.log2(1024))\n",
    "print(math.cos(45))"
   ]
  },
  {
   "cell_type": "code",
   "execution_count": 3,
   "metadata": {},
   "outputs": [
    {
     "name": "stdout",
     "output_type": "stream",
     "text": [
      "7.0\n",
      "10.0\n",
      "0.5253219888177297\n"
     ]
    }
   ],
   "source": [
    "import math as m\n",
    "\n",
    "print(m.sqrt(49))\n",
    "print(m.log2(1024))\n",
    "print(m.cos(45))"
   ]
  },
  {
   "cell_type": "code",
   "execution_count": 4,
   "metadata": {},
   "outputs": [
    {
     "name": "stdout",
     "output_type": "stream",
     "text": [
      "5.0\n",
      "10.0\n",
      "0.5253219888177297\n"
     ]
    }
   ],
   "source": [
    "from math import sqrt, log2, cos\n",
    "\n",
    "print(sqrt(25))\n",
    "print(log2(1024))\n",
    "print(cos(45))"
   ]
  }
 ],
 "metadata": {
  "kernelspec": {
   "display_name": "Python 3",
   "language": "python",
   "name": "python3"
  },
  "language_info": {
   "codemirror_mode": {
    "name": "ipython",
    "version": 3
   },
   "file_extension": ".py",
   "mimetype": "text/x-python",
   "name": "python",
   "nbconvert_exporter": "python",
   "pygments_lexer": "ipython3",
   "version": "3.12.4"
  }
 },
 "nbformat": 4,
 "nbformat_minor": 2
}
